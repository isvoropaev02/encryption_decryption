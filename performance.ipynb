{
 "cells": [
  {
   "cell_type": "code",
   "execution_count": 1,
   "metadata": {},
   "outputs": [],
   "source": [
    "from Encryptor import *\n",
    "from morse_code import *"
   ]
  },
  {
   "cell_type": "code",
   "execution_count": 2,
   "metadata": {},
   "outputs": [
    {
     "name": "stdout",
     "output_type": "stream",
     "text": [
      "Initial message: FLY ME TO THE MOON FLY ME TO THE MOON\n",
      "\n",
      "Encrypted message: TSU PA UP OCJ ZQXU TNA MP KL DVF MMJC\n",
      "\n",
      "Decrypted message: FLY ME TO THE MOON FLY ME TO THE MOON\n",
      "\n",
      "Morse code: - ... ..-  .--. .-  ..- .--.  --- -.-. .---  --.. --.- -..- ..-  - -. .-  -- .--.  -.- .-..  -.. ...- ..-.  -- -- .--- -.-. \n",
      "\n"
     ]
    }
   ],
   "source": [
    "enc = Encryptor(config)\n",
    "initial_message = \"FLY ME TO THE MOON FLY ME TO THE MOON\"\n",
    "encrypted_message = enc.encrypt_message(initial_message)\n",
    "decrypted_message = enc.decrypt_message(encrypted_message)\n",
    "morsed_message = convert_to_morse_code(encrypted_message)\n",
    "\n",
    "print('Initial message: '+initial_message+'\\n')\n",
    "print('Encrypted message: '+encrypted_message+'\\n')\n",
    "print('Decrypted message: '+decrypted_message+'\\n')\n",
    "print('Morse code: ' + morsed_message+'\\n')"
   ]
  }
 ],
 "metadata": {
  "kernelspec": {
   "display_name": "Python 3",
   "language": "python",
   "name": "python3"
  },
  "language_info": {
   "codemirror_mode": {
    "name": "ipython",
    "version": 3
   },
   "file_extension": ".py",
   "mimetype": "text/x-python",
   "name": "python",
   "nbconvert_exporter": "python",
   "pygments_lexer": "ipython3",
   "version": "3.11.1"
  }
 },
 "nbformat": 4,
 "nbformat_minor": 2
}
